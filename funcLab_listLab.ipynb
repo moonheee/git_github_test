{
 "cells": [
  {
   "cell_type": "markdown",
   "id": "20530797",
   "metadata": {},
   "source": [
    "# [ 실습 1 ]\n",
    "1. 파일명 : funcLab8.py  \n",
    "2. 구현해야 하는 함수 사양  \n",
    "함수명: print_triangle_withdeco  \n",
    "매개변수 : 2개  \n",
    "            숫자와 데코문자  \n",
    "            여기에서 데코문자는 기본값을 갖는다. 기본값은 ‘%’로 정한다.  \n",
    "리턴값: 없음  \n",
    "기능 : 전달된 숫자 개수로 구성되는 삼각형을 출력한다.출력 형식은 다음과 같다.  \n",
    "숫자 2 만 전달시  \n",
    "\\%  \n",
    "\\%\\%  \n",
    "숫자 5 와 데코문자‘\\*’전달시  \n",
    "\\*  \n",
    "\\*\\*  \n",
    "\\*\\*\\*  \n",
    "\\*\\*\\*\\*  \n",
    "\\*\\*\\*\\*\\*  \n",
    "전달되는 아규먼트 값은 1\\~10으로 제한한다. 1\\~10 이외의 값이 전달된 경우에는 처리하지 않는다.  \n",
    "3. 숫자를 다양하게 지정해서 print_triangle_withdeco() 함수를 호출해 본다.  "
   ]
  },
  {
   "cell_type": "code",
   "execution_count": null,
   "id": "2f6693fd",
   "metadata": {},
   "outputs": [],
   "source": [
    "def print_triangle_withdeco(height, deco=\"%\"):\n",
    "    if 1 <= height <= 10:\n",
    "        for i in range(1, height + 1):\n",
    "            print(' ' * (height - i), deco * i, sep='')\n",
    "\n",
    "\n",
    "print_triangle_withdeco(2)\n",
    "print_triangle_withdeco(5, \"*\")\n",
    "print_triangle_withdeco(0)\n",
    "print_triangle_withdeco(11)\n"
   ]
  },
  {
   "cell_type": "markdown",
   "id": "b9571582",
   "metadata": {},
   "source": [
    "# [ 실습2 ]\n",
    "-최댓값을 구하는 기능은 함수를 사용하지 않고 제어문으로 직접 구현한다.  \n",
    "1. listLab1.py이라는 소스를 생성한다.  \n",
    "2. 다음 값들로 구성되는 리스트를 생성하여 listnum 에 저장한다.  \n",
    "10, 5, 7,21, 4, 8, 18  \n",
    "3. listnum에 저장된 값들 중에서 최댓값을 추출하여 다음과 같이 출력한다.  \n",
    "최댓값 : 21\n",
    "---\n",
    "알아야 할 것 : 삽입정렬, 선택정렬을 빠르게 코딩할 수 있도록 준비한다.  \n",
    "시간을 많이 잡아 먹는 것 : 인덱싱이 시간이 많이 걸린다."
   ]
  },
  {
   "cell_type": "code",
   "execution_count": null,
   "id": "18c4c08c",
   "metadata": {},
   "outputs": [],
   "source": [
    "listnum = [10, 5, 7, 21, 4, 8, 18]\n",
    "for i in range(len(listnum)):\n",
    "    j = i\n",
    "    while (j > 0) and (listnum[j] < listnum[j-1]):\n",
    "        listnum[j], listnum[j-1] = listnum[j-1], listnum[j]\n",
    "        j -= 1\n",
    "\n",
    "print(\"최댓값 :\", listnum[-1])\n"
   ]
  },
  {
   "cell_type": "markdown",
   "id": "6534f572",
   "metadata": {},
   "source": [
    "# [ 실습3 ]\n",
    "-최솟값을 구하는 기능은 함수를 사용하지 않고 제어문으로 직접 구현한다.  \n",
    "1. listLab2.py이라는 소스를 생성한다.  \n",
    "2. 다음 값들로 구성되는 리스트를 생성하여 listnum 에 저장한다.  \n",
    "10, 5, 7,21, 4, 8, 18  \n",
    "3. listnum에 저장된 값들 중에서 최솟값을 추출하여 다음과 같이 출력한다.  \n",
    "\t최솟값 : 5   "
   ]
  },
  {
   "cell_type": "code",
   "execution_count": null,
   "id": "67b0099d",
   "metadata": {},
   "outputs": [],
   "source": [
    "listnum = [10, 5, 7, 21, 4, 8, 18]\n",
    "for i in range(len(listnum)):\n",
    "    j = i\n",
    "    while (j > 0) and (listnum[j] < listnum[j-1]):\n",
    "        listnum[j], listnum[j-1] = listnum[j-1], listnum[j]\n",
    "        j -= 1\n",
    "\n",
    "print(\"최소값 :\", listnum[0])\n"
   ]
  },
  {
   "cell_type": "markdown",
   "id": "8ef98037",
   "metadata": {},
   "source": [
    "# [ 실습4 ]\n",
    "-최댓값과 최솟값을 구하는 기능은 함수를 사용하지 않고 제어문으로 직접 구현한다.  \n",
    "1. listLab3.py이라는 소스를 생성한다.  \n",
    "2. 다음 값들로 구성되는 리스트를 생성하여 listnum 에 저장한다.  \n",
    "10, 5, 7,21, 4, 8, 18  \n",
    "3. listnum에 저장된 값들 중에서 최댓값 최솟값을 추출하여 다음과 같이 출력한다.  \n",
    "\t최솟값 : 5, 최댓값 : 21 "
   ]
  },
  {
   "cell_type": "code",
   "execution_count": null,
   "id": "0cba1cea",
   "metadata": {},
   "outputs": [],
   "source": [
    "listnum = [10, 5, 7, 21, 4, 8, 18]\n",
    "for i in range(len(listnum)):\n",
    "    j = i\n",
    "    while (j > 0) and (listnum[j] < listnum[j-1]):\n",
    "        listnum[j], listnum[j-1] = listnum[j-1], listnum[j]\n",
    "        j -= 1\n",
    "\n",
    "print(\"최솟값 : \", listnum[0], \", 최댓값 : \", listnum[-1], sep='')\n"
   ]
  },
  {
   "cell_type": "markdown",
   "id": "7c89a128",
   "metadata": {},
   "source": [
    "# [ 실습 5 ]\n",
    "1. listLab4.py이라는 소스를 생성한다.  \n",
    "2. 비어있는 리스트를 하나 생성하여 listnum 이라는 변수에 저장한다.  \n",
    "3. 1\\~50 사이의 난수를 10개 추출하여 listnum 에 추출 순서대로 저장한다. (for문 사용)  \n",
    "4. listnum의 모든 값들을 출력한다.(이 때 반복문을 사용하지 않아도 된다.)  \n",
    "5. 리스트에서 10보다 작은 값들은 100으로 변경한다. (for문 사용)  \n",
    "6. listnum의 모든 값들을 출력한다.(이 때 반복문을 사용하지 않아도 된다.)  \n",
    "7. 인덱싱 방법으로 listnum의 첫 번째 데이터를 출력한다.  \n",
    "8. 인덱싱 방법으로 listnum의 마지막 데이터를 출력한다.  \n",
    "9. 슬라이싱 방법으로 listnum의  두 번째 데이터부터 여섯 번째 데이터만 추출하여 출력한다.  \n",
    "10. 슬라이싱 방법으로 listnum의 데이터를 역순으로 출력한다.  \n",
    "11. 슬라이싱 방법으로 listnum의 데이터를 모두 출력한다.  \n",
    "12. 인덱싱 방법으로 5번째 데이터를 삭제한다.  \n",
    "13. 슬라이싱 방법으로 listnum의 데이터를 모두 출력한다.  \n",
    "14. 슬라이싱 방법으로 2\\~3번째 데이터를 삭제한다.  \n",
    "15. 슬라이싱 방법으로 listnum의 데이터를 모두 출력한다.\n",
    "---\n",
    "list를 관리하는 것이 빠르지 않다. (9번, 10번, 14번)  "
   ]
  },
  {
   "cell_type": "code",
   "execution_count": null,
   "id": "e2159657",
   "metadata": {},
   "outputs": [],
   "source": [
    "from random import randint\n",
    "\n",
    "\n",
    "listnum = []\n",
    "for _ in range(10):\n",
    "    listnum.append(randint(1, 50))\n",
    "print(listnum)\n",
    "for i in range(len(listnum)):\n",
    "    if listnum[i] < 10:\n",
    "        listnum[i] = 100\n",
    "print(listnum)\n",
    "print(listnum[0])\n",
    "print(listnum[-1])\n",
    "print(listnum[1:6])\n",
    "print(listnum[::-1])\n",
    "print(listnum[:])\n",
    "del listnum[4]\n",
    "print(listnum[:])\n",
    "listnum[1:3] = []\n",
    "print(listnum[:])\n"
   ]
  },
  {
   "cell_type": "markdown",
   "id": "8cb7ee14",
   "metadata": {},
   "source": [
    "# [ 실습 6 ]\n",
    "1. 파일명 : funcLab9.py  \n",
    "2. 구현해야 하는 함수 사양  \n",
    "함수명: sumEven1  \n",
    "매개변수 : 가변형(전달받을 수 있는 아규먼트 개수에 제한이 없다.)  \n",
    "리턴값: 1개  \n",
    "기능 : 아규먼트가 몇 개가 전달되든 처리해야 한다.  \n",
    "아규먼트는 1 이상의 숫자만 온다고 정한다.  \n",
    "         전달된 아규먼트들에서 짝수에 해당하는 숫자들만 합을 계산해서 리턴한다.  \n",
    "         전달된 아규먼트들 중에 짝수가 없으면 0을 리턴한다.  \n",
    "아규먼트가 전달되지 않으면 -1을 리턴한다.  \n",
    "3. 숫자를 다양하게 지정해서 sumEven1() 함수를 호출해 본다  \n",
    "---\n",
    "return 문을 줄이는 방법이 있나요?"
   ]
  },
  {
   "cell_type": "code",
   "execution_count": null,
   "id": "e4a29680",
   "metadata": {},
   "outputs": [],
   "source": [
    "def sumEven1(*nums):\n",
    "    total = 0\n",
    "    if len(nums) == 0:\n",
    "        return -1\n",
    "    for num in nums:\n",
    "        if num % 2 == 0:\n",
    "            total += num\n",
    "    return total\n",
    "\n",
    "\n",
    "print(sumEven1(1, 2, 4))\n",
    "print(sumEven1())\n",
    "print(sumEven1(1, 3, 9))\n"
   ]
  },
  {
   "cell_type": "markdown",
   "id": "80e32bc1",
   "metadata": {},
   "source": [
    "# [ 실습 7 ]\n",
    "1. 파일명 : funcLab10.py  \n",
    "2. 구현해야 하는 함수 사양  \n",
    "함수명: sumAll  \n",
    "매개변수 : 가변형(전달받을 수 있는 아규먼트 개수에 제한이 없다.)  \n",
    "리턴값: 1개  \n",
    "기능 : 아규먼트가 몇 개가 전달되든 처리해야 한다.  \n",
    "호출시 전달되는 아규먼트의 데이터 타입에는 제한이 없다. 그러므로 전달된 아규먼트의 타입을 채크하여 숫자만 처리하고 숫자가 아닌 데이터는 무시한다.  \n",
    "아규먼트가 전달되지 않았거나 전달되었다 하더라도 숫자가 없으면 None 을 리턴한다.  \n",
    "3. 숫자를 다양하게 지정해서 sumAll() 함수를 호출해 본다.  \n",
    "---\n",
    "고민했던 것 : 인수로 받은 인자를 마음대로 변경해도 되나요?"
   ]
  },
  {
   "cell_type": "code",
   "execution_count": null,
   "id": "4e8cca9f",
   "metadata": {},
   "outputs": [],
   "source": [
    "def sumAll(*nums):\n",
    "    num_list = []\n",
    "    for num in nums:\n",
    "        if type(num) == int:\n",
    "            num_list.append(num)\n",
    "    if len(num_list) == 0:\n",
    "        return None\n",
    "    total = 0\n",
    "    for num in num_list:\n",
    "        if type(num) == int:\n",
    "            total += num\n",
    "    return total\n",
    "\n",
    "\n",
    "print(sumAll())\n",
    "print(sumAll(1, 2, 3, 4, 5))\n",
    "print(sumAll(1, 2, 3, 4, \"cha\"))\n",
    "print(sumAll(\"h\", \"i\"))\n"
   ]
  }
 ],
 "metadata": {
  "kernelspec": {
   "display_name": "Python 3",
   "language": "python",
   "name": "python3"
  },
  "language_info": {
   "codemirror_mode": {
    "name": "ipython",
    "version": 3
   },
   "file_extension": ".py",
   "mimetype": "text/x-python",
   "name": "python",
   "nbconvert_exporter": "python",
   "pygments_lexer": "ipython3",
   "version": "3.8.8"
  }
 },
 "nbformat": 4,
 "nbformat_minor": 5
}
